{
 "cells": [
  {
   "cell_type": "markdown",
   "id": "e380d727",
   "metadata": {},
   "source": [
    "# Function"
   ]
  },
  {
   "cell_type": "markdown",
   "id": "5dc4c380",
   "metadata": {},
   "source": [
    "## Exemplos em numero complexos"
   ]
  },
  {
   "cell_type": "code",
   "execution_count": 1,
   "id": "2ee60293",
   "metadata": {},
   "outputs": [],
   "source": [
    "def scale(vector, factor) :\n",
    "    if len(vector) != 2 or len(factor)!=1:\n",
    "        return print('error')\n",
    "    return [x * factor for x in vector]"
   ]
  },
  {
   "cell_type": "code",
   "execution_count": 2,
   "id": "492e4e7f",
   "metadata": {},
   "outputs": [
    {
     "data": {
      "text/plain": [
       "[[10], [10, 10]]"
      ]
     },
     "execution_count": 2,
     "metadata": {},
     "output_type": "execute_result"
    }
   ],
   "source": [
    "vector = [1,2]\n",
    "factor = [10]\n",
    "scale(vector,factor)"
   ]
  },
  {
   "cell_type": "code",
   "execution_count": 3,
   "id": "32b1fbce",
   "metadata": {},
   "outputs": [
    {
     "name": "stdout",
     "output_type": "stream",
     "text": [
      "error\n"
     ]
    }
   ],
   "source": [
    "vector1 = {1,2,3,4,5}\n",
    "factor1 = 10\n",
    "scale(vector1, factor1)"
   ]
  },
  {
   "cell_type": "code",
   "execution_count": 4,
   "id": "c01240f7",
   "metadata": {},
   "outputs": [],
   "source": [
    "def sum(a,b):\n",
    "    if len(a) != 2 or len(b)!=2:\n",
    "        return print('error') \n",
    "    return [a[0]+b[0],a[1]+b[1]]"
   ]
  },
  {
   "cell_type": "code",
   "execution_count": 5,
   "id": "6ebaaaaa",
   "metadata": {},
   "outputs": [
    {
     "data": {
      "text/plain": [
       "[11, 22]"
      ]
     },
     "execution_count": 5,
     "metadata": {},
     "output_type": "execute_result"
    }
   ],
   "source": [
    "a=[1,2]\n",
    "b=[10,20]\n",
    "sum(a,b)"
   ]
  },
  {
   "cell_type": "code",
   "execution_count": 6,
   "id": "81ceb2b9",
   "metadata": {},
   "outputs": [],
   "source": [
    "def multiply(a,b):\n",
    "    if len(a) != 2 or len(b)!=2:\n",
    "        return print('error')\n",
    "    return [a[0]*b[0]-a[1]*b[1],a[1]*b[0]+a[0]*b[1]]"
   ]
  },
  {
   "cell_type": "code",
   "execution_count": 7,
   "id": "6f18dfe0",
   "metadata": {},
   "outputs": [
    {
     "data": {
      "text/plain": [
       "[-30, 40]"
      ]
     },
     "execution_count": 7,
     "metadata": {},
     "output_type": "execute_result"
    }
   ],
   "source": [
    "a=[1,2]\n",
    "b=[10,20]\n",
    "multiply(a,b)"
   ]
  },
  {
   "cell_type": "code",
   "execution_count": 8,
   "id": "7a24108c",
   "metadata": {},
   "outputs": [],
   "source": [
    "def module(a):\n",
    "    if len(a) != 2:\n",
    "        return print('error') \n",
    "    return (a[0]*a[0]+a[1]*a[1])**(1/2)"
   ]
  },
  {
   "cell_type": "code",
   "execution_count": 20,
   "id": "35cc62fa",
   "metadata": {},
   "outputs": [],
   "source": [
    "def inverse(a):\n",
    "    if len(a) !=2 or module(a)==0:\n",
    "        return print('error')\n",
    "    return [a[0]/module(a)**2,-a[1]/module(a)**2]"
   ]
  },
  {
   "cell_type": "code",
   "execution_count": 10,
   "id": "2a0d93bd",
   "metadata": {},
   "outputs": [],
   "source": [
    "def division(a,b):\n",
    "    return(multiply(a,inverse(b)))"
   ]
  },
  {
   "cell_type": "code",
   "execution_count": 11,
   "id": "96dc06ef",
   "metadata": {},
   "outputs": [
    {
     "data": {
      "text/plain": [
       "[0.09999999999999998, 0.0]"
      ]
     },
     "execution_count": 11,
     "metadata": {},
     "output_type": "execute_result"
    }
   ],
   "source": [
    "a=[1,2]\n",
    "b=[10,20]\n",
    "division(a,b)"
   ]
  },
  {
   "cell_type": "code",
   "execution_count": 12,
   "id": "f1861674",
   "metadata": {},
   "outputs": [],
   "source": [
    "import math\n",
    "def alg2pol(a):\n",
    "    if len(a) != 2:\n",
    "        return print('error')\n",
    "    return [module(a),math.atan(a[1]/a[0])]"
   ]
  },
  {
   "cell_type": "code",
   "execution_count": 13,
   "id": "668ac818",
   "metadata": {},
   "outputs": [
    {
     "data": {
      "text/plain": [
       "[1.0000499987500624, 1.5607966601082315]"
      ]
     },
     "execution_count": 13,
     "metadata": {},
     "output_type": "execute_result"
    }
   ],
   "source": [
    "alg2pol([0.01,1])"
   ]
  },
  {
   "cell_type": "markdown",
   "id": "354cf352",
   "metadata": {},
   "source": [
    "# Decorators"
   ]
  },
  {
   "cell_type": "markdown",
   "id": "550308f9",
   "metadata": {},
   "source": [
    "## Decorators são 'funções' que utilizam como parametros outras funções. Basicamente, um decorador recebe uma função, adiciona alguma funcionalidade e a retorna."
   ]
  },
  {
   "cell_type": "code",
   "execution_count": 14,
   "id": "f6dd7617",
   "metadata": {},
   "outputs": [],
   "source": [
    "def complexcalculator(func,a,b):\n",
    "    return(func(a,b))"
   ]
  },
  {
   "cell_type": "code",
   "execution_count": 19,
   "id": "108222fe",
   "metadata": {},
   "outputs": [
    {
     "data": {
      "text/plain": [
       "[9.999999999999998, 0.0]"
      ]
     },
     "execution_count": 19,
     "metadata": {},
     "output_type": "execute_result"
    }
   ],
   "source": [
    "a=[10,20]\n",
    "b=[1,2]\n",
    "complexcalculator(division,a,b)"
   ]
  },
  {
   "cell_type": "markdown",
   "id": "ebf29ad4",
   "metadata": {},
   "source": [
    "## Em vez de atribuir a chamada de função a uma variável, o Python fornece uma maneira muito mais elegante de obter essa funcionalidade usando o símbolo @. Por exemplo,"
   ]
  },
  {
   "cell_type": "code",
   "execution_count": null,
   "id": "4314fbc9",
   "metadata": {},
   "outputs": [],
   "source": []
  }
 ],
 "metadata": {
  "kernelspec": {
   "display_name": "Python 3 (ipykernel)",
   "language": "python",
   "name": "python3"
  },
  "language_info": {
   "codemirror_mode": {
    "name": "ipython",
    "version": 3
   },
   "file_extension": ".py",
   "mimetype": "text/x-python",
   "name": "python",
   "nbconvert_exporter": "python",
   "pygments_lexer": "ipython3",
   "version": "3.11.3"
  }
 },
 "nbformat": 4,
 "nbformat_minor": 5
}
